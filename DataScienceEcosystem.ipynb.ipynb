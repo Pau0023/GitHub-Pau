{
  "metadata": {
    "language_info": {
      "codemirror_mode": "sql",
      "file_extension": "",
      "mimetype": "",
      "name": "sql",
      "version": "3.32.3"
    },
    "kernelspec": {
      "name": "SQLite",
      "display_name": "SQLite",
      "language": "sql"
    }
  },
  "nbformat_minor": 4,
  "nbformat": 4,
  "cells": [
    {
      "cell_type": "markdown",
      "source": "Data Science Tools and Ecosystem",
      "metadata": {}
    },
    {
      "cell_type": "markdown",
      "source": "In this notebook, Data Science Tools and Ecosystem are summarized.",
      "metadata": {}
    },
    {
      "cell_type": "markdown",
      "source": "### Objectives",
      "metadata": {
        "tags": []
      }
    },
    {
      "cell_type": "markdown",
      "source": "#### List popular languages for Data Science",
      "metadata": {}
    },
    {
      "cell_type": "markdown",
      "source": "Some of the popular languages that Data Scientists use are:",
      "metadata": {}
    },
    {
      "cell_type": "markdown",
      "source": "-R",
      "metadata": {}
    },
    {
      "cell_type": "markdown",
      "source": "-Julia",
      "metadata": {}
    },
    {
      "cell_type": "markdown",
      "source": "-SQL",
      "metadata": {}
    },
    {
      "cell_type": "markdown",
      "source": "-Scala",
      "metadata": {}
    },
    {
      "cell_type": "markdown",
      "source": "-Java",
      "metadata": {}
    },
    {
      "cell_type": "markdown",
      "source": "Some of the commonly used libraries used by Data Scientists include:",
      "metadata": {}
    },
    {
      "cell_type": "markdown",
      "source": "-TensorFlow",
      "metadata": {}
    },
    {
      "cell_type": "markdown",
      "source": "-SciPy",
      "metadata": {}
    },
    {
      "cell_type": "markdown",
      "source": "-NumPy",
      "metadata": {}
    },
    {
      "cell_type": "markdown",
      "source": "-Pandas",
      "metadata": {}
    },
    {
      "cell_type": "markdown",
      "source": "-Matplotlib",
      "metadata": {}
    },
    {
      "cell_type": "markdown",
      "source": "|Data Science Tools|\n|----|\n|RStudio|\n|TensorFlow|\n|Apache Spark|",
      "metadata": {}
    },
    {
      "cell_type": "markdown",
      "source": "\n### Below are a few examples of evaluating arithmetic expressions in Python",
      "metadata": {}
    },
    {
      "cell_type": "markdown",
      "source": "This a simple arithmetic expression to mutiply then add integers",
      "metadata": {}
    },
    {
      "cell_type": "markdown",
      "source": "(3*4)+5",
      "metadata": {}
    },
    {
      "cell_type": "markdown",
      "source": "17",
      "metadata": {}
    },
    {
      "cell_type": "markdown",
      "source": "min=int(input(\"200\"))\nh=min//60",
      "metadata": {}
    },
    {
      "cell_type": "markdown",
      "source": "h=3,33",
      "metadata": {}
    },
    {
      "cell_type": "markdown",
      "source": "## Author",
      "metadata": {}
    },
    {
      "cell_type": "markdown",
      "source": "Pablo Peretó Mas",
      "metadata": {}
    }
  ]
}